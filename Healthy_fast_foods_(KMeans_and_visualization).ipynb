{
  "metadata": {
    "kernelspec": {
      "language": "python",
      "display_name": "Python 3",
      "name": "python3"
    },
    "language_info": {
      "name": "python",
      "version": "3.7.12",
      "mimetype": "text/x-python",
      "codemirror_mode": {
        "name": "ipython",
        "version": 3
      },
      "pygments_lexer": "ipython3",
      "nbconvert_exporter": "python",
      "file_extension": ".py"
    },
    "kaggle": {
      "accelerator": "none",
      "dataSources": [
        {
          "sourceId": 5206752,
          "sourceType": "datasetVersion",
          "datasetId": 3028284
        }
      ],
      "dockerImageVersionId": 30458,
      "isInternetEnabled": true,
      "language": "python",
      "sourceType": "notebook",
      "isGpuEnabled": false
    },
    "colab": {
      "name": "Healthy fast foods (KMeans and visualization) ",
      "provenance": []
    }
  },
  "nbformat_minor": 0,
  "nbformat": 4,
  "cells": [
    {
      "source": [
        "# IMPORTANT: RUN THIS CELL IN ORDER TO IMPORT YOUR KAGGLE DATA SOURCES,\n",
        "# THEN FEEL FREE TO DELETE THIS CELL.\n",
        "# NOTE: THIS NOTEBOOK ENVIRONMENT DIFFERS FROM KAGGLE'S PYTHON\n",
        "# ENVIRONMENT SO THERE MAY BE MISSING LIBRARIES USED BY YOUR\n",
        "# NOTEBOOK.\n",
        "import kagglehub\n",
        "ulrikthygepedersen_fastfood_nutrition_path = kagglehub.dataset_download('ulrikthygepedersen/fastfood-nutrition')\n",
        "\n",
        "print('Data source import complete.')\n"
      ],
      "metadata": {
        "id": "1GfQE_hG5vkk"
      },
      "cell_type": "code",
      "outputs": [],
      "execution_count": null
    },
    {
      "cell_type": "markdown",
      "source": [
        "## Fast food analysis\n",
        "![images.jpg](attachment:1fbf021b-4858-46c7-a956-2a1acf95c55e.jpg)\n",
        "### Lets look at daily requirements of nutritions (information)\n",
        "* Calories: 2000-2500 kcal/day for men, and 1600-2000 kcal/day for women.\n",
        "* Protein: 0.8-1.0 g/kg of body weight/day.\n",
        "* Carbohydrates: 45-65% of total daily calories, or at least 130 g/day.\n",
        "* Fat: 20-35% of total daily calories, or at least 20-35 g/day.\n",
        "* Fiber: 25-38 g/day for men, and 21-25 g/day for women.\n",
        "* Vitamins: the RDI varies depending on the vitamin, ranging from a few micrograms to several milligrams or more per day.\n",
        "* Minerals: the RDI also varies depending on the mineral, ranging from a few milligrams to several grams per day.\n",
        "* Vitamin A: RDI is 900 micrograms (mcg) per day for men, and 700 mcg per day for women.\n",
        "* Vitamin C: RDI is 90 milligrams (mg) per day for men, and 75 mg per day for women.\n",
        "* Cholesterol: less than 300 milligrams per day for most adults, and less than 200 milligrams per day for individuals with heart disease or high blood cholesterol levels.\n",
        "* Sodium: less than 2,300 milligrams per day for most adults, and less than 1,500 milligrams per day for individuals with high blood pressure, kidney disease, or other health conditions.\n",
        "* Sugar: the American Heart Association recommends limiting added sugar intake to no more than 6 teaspoons (25 grams) per day for women and 9 teaspoons (38 grams) per day for men.\n",
        "* Calcium: the recommended daily intake varies depending on age and sex, but generally ranges from 1,000 to 1,300 milligrams per day for adults."
      ],
      "metadata": {
        "id": "Una6hZmB5vkl"
      }
    },
    {
      "cell_type": "code",
      "source": [
        "# This Python 3 environment comes with many helpful analytics libraries installed\n",
        "# It is defined by the kaggle/python Docker image: https://github.com/kaggle/docker-python\n",
        "# For example, here's several helpful packages to load\n",
        "\n",
        "import numpy as np # linear algebra\n",
        "import pandas as pd # data processing, CSV file I/O (e.g. pd.read_csv)\n",
        "\n",
        "# Input data files are available in the read-only \"../input/\" directory\n",
        "# For example, running this (by clicking run or pressing Shift+Enter) will list all files under the input directory\n",
        "\n",
        "import os\n",
        "for dirname, _, filenames in os.walk('/kaggle/input'):\n",
        "    for filename in filenames:\n",
        "        print(os.path.join(dirname, filename))\n",
        "\n",
        "# You can write up to 20GB to the current directory (/kaggle/working/) that gets preserved as output when you create a version using \"Save & Run All\"\n",
        "# You can also write temporary files to /kaggle/temp/, but they won't be saved outside of the current session"
      ],
      "metadata": {
        "execution": {
          "iopub.status.busy": "2024-11-21T10:54:34.531111Z",
          "iopub.execute_input": "2024-11-21T10:54:34.531585Z",
          "iopub.status.idle": "2024-11-21T10:54:34.582621Z",
          "shell.execute_reply.started": "2024-11-21T10:54:34.531543Z",
          "shell.execute_reply": "2024-11-21T10:54:34.580989Z"
        },
        "trusted": true,
        "id": "9kGfBOMP5vkl"
      },
      "outputs": [],
      "execution_count": null
    },
    {
      "cell_type": "markdown",
      "source": [
        "## Goal is to segment healthy food for life\n",
        "### This notebook devided into two parts\n",
        "> 1. Collecting labels `unsuperwised learning`\n",
        "> 2. Segmenting data into `healthy food and unhealthy food`"
      ],
      "metadata": {
        "id": "UZP-p_hP5vkm"
      }
    },
    {
      "cell_type": "markdown",
      "source": [
        "### Basic preprocessing"
      ],
      "metadata": {
        "id": "bzxlVuzU5vkm"
      }
    },
    {
      "cell_type": "code",
      "source": [
        "pd.set_option(\"display.max_column\",None)\n",
        "df = pd.read_csv(\"/kaggle/input/fastfood-nutrition/fastfood.csv\")\n",
        "df.head(3)"
      ],
      "metadata": {
        "execution": {
          "iopub.status.busy": "2024-11-21T10:54:34.585538Z",
          "iopub.execute_input": "2024-11-21T10:54:34.586155Z",
          "iopub.status.idle": "2024-11-21T10:54:34.65637Z",
          "shell.execute_reply.started": "2024-11-21T10:54:34.586114Z",
          "shell.execute_reply": "2024-11-21T10:54:34.654901Z"
        },
        "trusted": true,
        "id": "ImVjqEBL5vkm"
      },
      "outputs": [],
      "execution_count": null
    },
    {
      "cell_type": "code",
      "source": [
        "df.shape"
      ],
      "metadata": {
        "execution": {
          "iopub.status.busy": "2024-11-21T10:54:34.658711Z",
          "iopub.execute_input": "2024-11-21T10:54:34.659201Z",
          "iopub.status.idle": "2024-11-21T10:54:34.68155Z",
          "shell.execute_reply.started": "2024-11-21T10:54:34.659147Z",
          "shell.execute_reply": "2024-11-21T10:54:34.679147Z"
        },
        "trusted": true,
        "id": "G5YFn0j65vkm"
      },
      "outputs": [],
      "execution_count": null
    },
    {
      "cell_type": "code",
      "source": [
        "df.info()"
      ],
      "metadata": {
        "execution": {
          "iopub.status.busy": "2024-11-21T10:54:34.683874Z",
          "iopub.execute_input": "2024-11-21T10:54:34.684517Z",
          "iopub.status.idle": "2024-11-21T10:54:34.731354Z",
          "shell.execute_reply.started": "2024-11-21T10:54:34.684455Z",
          "shell.execute_reply": "2024-11-21T10:54:34.727787Z"
        },
        "trusted": true,
        "id": "Z7j6u8sg5vkn"
      },
      "outputs": [],
      "execution_count": null
    },
    {
      "cell_type": "code",
      "source": [
        "null_vals = dict(df.isnull().sum())\n",
        "null_vals"
      ],
      "metadata": {
        "execution": {
          "iopub.status.busy": "2024-11-21T10:54:34.737949Z",
          "iopub.execute_input": "2024-11-21T10:54:34.739323Z",
          "iopub.status.idle": "2024-11-21T10:54:34.760112Z",
          "shell.execute_reply.started": "2024-11-21T10:54:34.739256Z",
          "shell.execute_reply": "2024-11-21T10:54:34.758345Z"
        },
        "trusted": true,
        "id": "_OgPPOne5vkn"
      },
      "outputs": [],
      "execution_count": null
    },
    {
      "cell_type": "code",
      "source": [
        "# % null values\n",
        "for key,val in null_vals.items():\n",
        "    print(f\"null values for {key} =======> {(int(val)/df.shape[0])*100}\")"
      ],
      "metadata": {
        "execution": {
          "iopub.status.busy": "2024-11-21T10:54:34.761806Z",
          "iopub.execute_input": "2024-11-21T10:54:34.762325Z",
          "iopub.status.idle": "2024-11-21T10:54:34.78052Z",
          "shell.execute_reply.started": "2024-11-21T10:54:34.762265Z",
          "shell.execute_reply": "2024-11-21T10:54:34.778441Z"
        },
        "trusted": true,
        "id": "dV0MoLkm5vkn"
      },
      "outputs": [],
      "execution_count": null
    },
    {
      "cell_type": "code",
      "source": [
        "# replace vitamin a ,c and calcium with mean value, for this collecting mean values for these columns\n",
        "null_cols = ['fiber','protein','vit_a','vit_c','calcium']\n",
        "null_cols_avg = {}\n",
        "for col in null_cols:\n",
        "    null_cols_avg[col] = df[col].describe().mean()\n",
        "null_cols_avg"
      ],
      "metadata": {
        "execution": {
          "iopub.status.busy": "2024-11-21T10:54:34.784025Z",
          "iopub.execute_input": "2024-11-21T10:54:34.784782Z",
          "iopub.status.idle": "2024-11-21T10:54:34.81536Z",
          "shell.execute_reply.started": "2024-11-21T10:54:34.784694Z",
          "shell.execute_reply": "2024-11-21T10:54:34.813773Z"
        },
        "trusted": true,
        "id": "FfC14yph5vkn"
      },
      "outputs": [],
      "execution_count": null
    },
    {
      "cell_type": "code",
      "source": [
        "df.fillna(value=null_cols_avg,inplace=True)\n",
        "df.isnull().sum()"
      ],
      "metadata": {
        "execution": {
          "iopub.status.busy": "2024-11-21T10:54:34.817439Z",
          "iopub.execute_input": "2024-11-21T10:54:34.817936Z",
          "iopub.status.idle": "2024-11-21T10:54:34.834951Z",
          "shell.execute_reply.started": "2024-11-21T10:54:34.817889Z",
          "shell.execute_reply": "2024-11-21T10:54:34.833483Z"
        },
        "trusted": true,
        "id": "y-Ed9EiO5vko"
      },
      "outputs": [],
      "execution_count": null
    },
    {
      "cell_type": "code",
      "source": [
        "# Oh cleared it, now ready to go\n",
        "# here we will consider only total fat, the reason is I have not got more information\n",
        "# about trans_fat,sat_fat and cal_fat, I appologise for this, lets move further to our journey\n",
        "df.drop(['salad','cal_fat','sat_fat','trans_fat'],axis=1,inplace=True)"
      ],
      "metadata": {
        "execution": {
          "iopub.status.busy": "2024-11-21T10:54:34.836569Z",
          "iopub.execute_input": "2024-11-21T10:54:34.836954Z",
          "iopub.status.idle": "2024-11-21T10:54:34.846541Z",
          "shell.execute_reply.started": "2024-11-21T10:54:34.836923Z",
          "shell.execute_reply": "2024-11-21T10:54:34.845237Z"
        },
        "trusted": true,
        "id": "DKJ2PE_A5vko"
      },
      "outputs": [],
      "execution_count": null
    },
    {
      "cell_type": "markdown",
      "source": [
        "## 1) Collecting labels `unsuperwised learning`\n",
        "### Steps followed:\n",
        "* Collecting libraries\n",
        "* Dropping unrequired columns\n",
        "* Finding best cluster\n",
        "* Visualizing elbow method\n",
        "* Training model with best cluster\n",
        "* Getting labels"
      ],
      "metadata": {
        "id": "PWHTQx9A5vko"
      }
    },
    {
      "cell_type": "code",
      "source": [
        "# collecting libraries required\n",
        "from sklearn.cluster import KMeans\n",
        "from sklearn.model_selection import train_test_split\n",
        "import matplotlib.pyplot as plt"
      ],
      "metadata": {
        "execution": {
          "iopub.status.busy": "2024-11-21T10:54:34.848042Z",
          "iopub.execute_input": "2024-11-21T10:54:34.848373Z",
          "iopub.status.idle": "2024-11-21T10:54:36.388601Z",
          "shell.execute_reply.started": "2024-11-21T10:54:34.848322Z",
          "shell.execute_reply": "2024-11-21T10:54:36.386997Z"
        },
        "trusted": true,
        "id": "VY5QgqL75vko"
      },
      "outputs": [],
      "execution_count": null
    },
    {
      "cell_type": "code",
      "source": [
        "df_seg = df.drop(['restaurant','item'],axis='columns')\n",
        "df_seg.sample(3)"
      ],
      "metadata": {
        "execution": {
          "iopub.status.busy": "2024-11-21T10:54:36.39046Z",
          "iopub.execute_input": "2024-11-21T10:54:36.390889Z",
          "iopub.status.idle": "2024-11-21T10:54:36.410993Z",
          "shell.execute_reply.started": "2024-11-21T10:54:36.390852Z",
          "shell.execute_reply": "2024-11-21T10:54:36.409552Z"
        },
        "trusted": true,
        "id": "OI91ib0r5vko"
      },
      "outputs": [],
      "execution_count": null
    },
    {
      "cell_type": "markdown",
      "source": [
        "### ----> Finding best cluster size for segmentation\n",
        "### ---- > Elbow method with yellowbrick"
      ],
      "metadata": {
        "id": "q08iQomA5vko"
      }
    },
    {
      "cell_type": "code",
      "source": [
        "from yellowbrick.cluster import KElbowVisualizer"
      ],
      "metadata": {
        "execution": {
          "iopub.status.busy": "2024-11-21T10:54:36.412636Z",
          "iopub.execute_input": "2024-11-21T10:54:36.413726Z",
          "iopub.status.idle": "2024-11-21T10:54:36.674043Z",
          "shell.execute_reply.started": "2024-11-21T10:54:36.41365Z",
          "shell.execute_reply": "2024-11-21T10:54:36.67265Z"
        },
        "trusted": true,
        "id": "m1bu34Jn5vko"
      },
      "outputs": [],
      "execution_count": null
    },
    {
      "cell_type": "code",
      "source": [
        "model = KMeans()\n",
        "visualizer = KElbowVisualizer(model, K=(1,10))\n",
        "visualizer.fit(df_seg)\n",
        "visualizer.show()"
      ],
      "metadata": {
        "execution": {
          "iopub.status.busy": "2024-11-21T10:54:36.675641Z",
          "iopub.execute_input": "2024-11-21T10:54:36.676268Z",
          "iopub.status.idle": "2024-11-21T10:54:37.980171Z",
          "shell.execute_reply.started": "2024-11-21T10:54:36.676218Z",
          "shell.execute_reply": "2024-11-21T10:54:37.978855Z"
        },
        "trusted": true,
        "id": "udtH-6AI5vko"
      },
      "outputs": [],
      "execution_count": null
    },
    {
      "cell_type": "code",
      "source": [
        "inertias = []\n",
        "for i in range(1,10):\n",
        "    model = KMeans(n_clusters=i,init=\"k-means++\",random_state=42)\n",
        "    model.fit(df_seg)\n",
        "    inertias.append(model.inertia_)\n",
        "print(inertias)"
      ],
      "metadata": {
        "execution": {
          "iopub.status.busy": "2024-11-21T10:54:37.985353Z",
          "iopub.execute_input": "2024-11-21T10:54:37.985838Z",
          "iopub.status.idle": "2024-11-21T10:54:38.667484Z",
          "shell.execute_reply.started": "2024-11-21T10:54:37.985798Z",
          "shell.execute_reply": "2024-11-21T10:54:38.662727Z"
        },
        "trusted": true,
        "id": "bqudRmR35vko"
      },
      "outputs": [],
      "execution_count": null
    },
    {
      "cell_type": "markdown",
      "source": [
        "### ---- > Elbow method"
      ],
      "metadata": {
        "id": "jox1fQlm5vko"
      }
    },
    {
      "cell_type": "code",
      "source": [
        "plt.plot(inertias)\n",
        "plt.title(\"inertia of Knn model\")\n",
        "plt.xlabel(\"number of clusters\")\n",
        "plt.ylabel(\"inertia\")\n",
        "plt.show()"
      ],
      "metadata": {
        "execution": {
          "iopub.status.busy": "2024-11-21T10:54:38.669723Z",
          "iopub.execute_input": "2024-11-21T10:54:38.670821Z",
          "iopub.status.idle": "2024-11-21T10:54:38.909306Z",
          "shell.execute_reply.started": "2024-11-21T10:54:38.670764Z",
          "shell.execute_reply": "2024-11-21T10:54:38.907869Z"
        },
        "trusted": true,
        "id": "I2yiFL-o5vkp"
      },
      "outputs": [],
      "execution_count": null
    },
    {
      "cell_type": "markdown",
      "source": [
        ">As per elbow method 4 types of clusters are best for our model, that means we can classify foods into 3 types."
      ],
      "metadata": {
        "id": "OjowL56q5vkp"
      }
    },
    {
      "cell_type": "code",
      "source": [
        "model = KMeans(n_clusters=4,init='k-means++',random_state=42)\n",
        "model.fit(df_seg)"
      ],
      "metadata": {
        "execution": {
          "iopub.status.busy": "2024-11-21T10:54:38.910486Z",
          "iopub.execute_input": "2024-11-21T10:54:38.910853Z",
          "iopub.status.idle": "2024-11-21T10:54:38.97937Z",
          "shell.execute_reply.started": "2024-11-21T10:54:38.91082Z",
          "shell.execute_reply": "2024-11-21T10:54:38.97841Z"
        },
        "trusted": true,
        "id": "Xwi0tXg95vkp"
      },
      "outputs": [],
      "execution_count": null
    },
    {
      "cell_type": "code",
      "source": [
        "cluster_centers = model.cluster_centers_\n",
        "cluster_centers"
      ],
      "metadata": {
        "execution": {
          "iopub.status.busy": "2024-11-21T10:54:38.980349Z",
          "iopub.execute_input": "2024-11-21T10:54:38.980682Z",
          "iopub.status.idle": "2024-11-21T10:54:38.991377Z",
          "shell.execute_reply.started": "2024-11-21T10:54:38.980633Z",
          "shell.execute_reply": "2024-11-21T10:54:38.989955Z"
        },
        "trusted": true,
        "id": "_LXBT-9E5vkp"
      },
      "outputs": [],
      "execution_count": null
    },
    {
      "cell_type": "code",
      "source": [
        "labels = model.labels_\n",
        "labels[:10]"
      ],
      "metadata": {
        "execution": {
          "iopub.status.busy": "2024-11-21T10:54:38.992875Z",
          "iopub.execute_input": "2024-11-21T10:54:38.993222Z",
          "iopub.status.idle": "2024-11-21T10:54:39.005036Z",
          "shell.execute_reply.started": "2024-11-21T10:54:38.99319Z",
          "shell.execute_reply": "2024-11-21T10:54:39.003805Z"
        },
        "trusted": true,
        "id": "SAIy88905vkp"
      },
      "outputs": [],
      "execution_count": null
    },
    {
      "cell_type": "code",
      "source": [
        "df['labels'] = labels\n",
        "df.sample(3)"
      ],
      "metadata": {
        "execution": {
          "iopub.status.busy": "2024-11-21T10:54:39.006552Z",
          "iopub.execute_input": "2024-11-21T10:54:39.007294Z",
          "iopub.status.idle": "2024-11-21T10:54:39.032293Z",
          "shell.execute_reply.started": "2024-11-21T10:54:39.007241Z",
          "shell.execute_reply": "2024-11-21T10:54:39.03097Z"
        },
        "trusted": true,
        "id": "0O7yqBdN5vkp"
      },
      "outputs": [],
      "execution_count": null
    },
    {
      "cell_type": "markdown",
      "source": [
        "#### Done first part 😌"
      ],
      "metadata": {
        "id": "KoM120Y05vkp"
      }
    },
    {
      "cell_type": "markdown",
      "source": [
        "## 2) Segmenting data into `healthy food and unhealthy food`"
      ],
      "metadata": {
        "id": "dRZltXW45vkp"
      }
    },
    {
      "cell_type": "code",
      "source": [
        "import seaborn as sn"
      ],
      "metadata": {
        "execution": {
          "iopub.status.busy": "2024-11-21T10:54:39.03376Z",
          "iopub.execute_input": "2024-11-21T10:54:39.034095Z",
          "iopub.status.idle": "2024-11-21T10:54:39.353469Z",
          "shell.execute_reply.started": "2024-11-21T10:54:39.034063Z",
          "shell.execute_reply": "2024-11-21T10:54:39.352414Z"
        },
        "trusted": true,
        "id": "kuJJ5CzK5vkp"
      },
      "outputs": [],
      "execution_count": null
    },
    {
      "cell_type": "markdown",
      "source": [
        "#### Droping cal_fat and sat_fat we will consider only total fat for further computation"
      ],
      "metadata": {
        "id": "iuB-4GwO5vkp"
      }
    },
    {
      "cell_type": "code",
      "source": [
        "label_0 = df[df['labels']==0]\n",
        "label_1 = df[df['labels']==1]\n",
        "label_2 = df[df['labels']==2]\n",
        "label_3 = df[df['labels']==3]\n",
        "print(\"label 0\",len(label_0))\n",
        "print(\"label 1\",len(label_1))\n",
        "print(\"label 2\",len(label_2))\n",
        "print(\"label 3\",len(label_3))"
      ],
      "metadata": {
        "execution": {
          "iopub.status.busy": "2024-11-21T10:54:39.354858Z",
          "iopub.execute_input": "2024-11-21T10:54:39.355266Z",
          "iopub.status.idle": "2024-11-21T10:54:39.366728Z",
          "shell.execute_reply.started": "2024-11-21T10:54:39.355223Z",
          "shell.execute_reply": "2024-11-21T10:54:39.365346Z"
        },
        "trusted": true,
        "id": "r7W_hIic5vkp"
      },
      "outputs": [],
      "execution_count": null
    },
    {
      "cell_type": "markdown",
      "source": [
        "### ----> Collecting average of Nutrition"
      ],
      "metadata": {
        "id": "ksdyCnMZ5vkp"
      }
    },
    {
      "cell_type": "code",
      "source": [
        "nutritions = list(label_0.describe().columns)\n",
        "label_0_nutri_avg = label_0.describe().mean().values\n",
        "label_1_nutri_avg = label_1.describe().mean().values\n",
        "label_2_nutri_avg = label_2.describe().mean().values\n",
        "label_3_nutri_avg = label_3.describe().mean().values\n",
        "\n",
        "print(\"label_0_nutri_avg\",label_0_nutri_avg)\n",
        "print(\"label_1_nutri_avg\",label_1_nutri_avg)\n",
        "print(\"label_2_nutri_avg\",label_2_nutri_avg)\n",
        "print(\"label_3_nutri_avg\",label_3_nutri_avg)"
      ],
      "metadata": {
        "execution": {
          "iopub.status.busy": "2024-11-21T10:54:39.367969Z",
          "iopub.execute_input": "2024-11-21T10:54:39.368272Z",
          "iopub.status.idle": "2024-11-21T10:54:39.504819Z",
          "shell.execute_reply.started": "2024-11-21T10:54:39.368243Z",
          "shell.execute_reply": "2024-11-21T10:54:39.503092Z"
        },
        "trusted": true,
        "id": "dLsaIOHy5vkq"
      },
      "outputs": [],
      "execution_count": null
    },
    {
      "cell_type": "markdown",
      "source": [
        "### ----> Visualization\n",
        "* label 0\n",
        "* label 1\n",
        "* label 2\n",
        "* label 3"
      ],
      "metadata": {
        "id": "QzfFfizZ5vkq"
      }
    },
    {
      "cell_type": "code",
      "source": [
        "# label 0\n",
        "sn.barplot(x=nutritions,y=label_0_nutri_avg)\n",
        "plt.title(\"Nutritions in average for label 0\")\n",
        "plt.xticks(rotation=90)\n",
        "plt.ylim([0,3000])\n",
        "plt.show()"
      ],
      "metadata": {
        "execution": {
          "iopub.status.busy": "2024-11-21T10:54:39.506133Z",
          "iopub.execute_input": "2024-11-21T10:54:39.50647Z",
          "iopub.status.idle": "2024-11-21T10:54:39.796241Z",
          "shell.execute_reply.started": "2024-11-21T10:54:39.506439Z",
          "shell.execute_reply": "2024-11-21T10:54:39.79489Z"
        },
        "trusted": true,
        "id": "jMMHq7OY5vkq"
      },
      "outputs": [],
      "execution_count": null
    },
    {
      "cell_type": "code",
      "source": [
        "# label 1\n",
        "sn.barplot(x=nutritions,y=label_1_nutri_avg)\n",
        "plt.title(\"Nutritions in average for label 1\")\n",
        "plt.xticks(rotation=90)\n",
        "plt.ylim([0,3000])\n",
        "plt.show()"
      ],
      "metadata": {
        "execution": {
          "iopub.status.busy": "2024-11-21T10:54:39.797784Z",
          "iopub.execute_input": "2024-11-21T10:54:39.798143Z",
          "iopub.status.idle": "2024-11-21T10:54:40.095162Z",
          "shell.execute_reply.started": "2024-11-21T10:54:39.798111Z",
          "shell.execute_reply": "2024-11-21T10:54:40.093938Z"
        },
        "trusted": true,
        "id": "r1MGd7Eu5vkq"
      },
      "outputs": [],
      "execution_count": null
    },
    {
      "cell_type": "code",
      "source": [
        "# label 2\n",
        "sn.barplot(x=nutritions,y=label_2_nutri_avg)\n",
        "plt.title(\"Nutritions in average for label 2\")\n",
        "plt.xticks(rotation=90)\n",
        "plt.ylim([0,3000])\n",
        "plt.show()"
      ],
      "metadata": {
        "execution": {
          "iopub.status.busy": "2024-11-21T10:54:40.096475Z",
          "iopub.execute_input": "2024-11-21T10:54:40.096841Z",
          "iopub.status.idle": "2024-11-21T10:54:40.393514Z",
          "shell.execute_reply.started": "2024-11-21T10:54:40.096797Z",
          "shell.execute_reply": "2024-11-21T10:54:40.392079Z"
        },
        "trusted": true,
        "id": "I-K5jszO5vkq"
      },
      "outputs": [],
      "execution_count": null
    },
    {
      "cell_type": "markdown",
      "source": [
        "### sodium\n",
        ">Sodium is a mineral found naturally in foods and also added to foods. Sodium plays an important role in maintaining normal fluid balance in the body. A low-sodium diet is important to follow in order to control your heart failure symptoms and prevent future heart problems."
      ],
      "metadata": {
        "id": "QZPsImNx5vkq"
      }
    },
    {
      "cell_type": "markdown",
      "source": [
        "### fiber\n",
        ">Better regulates blood sugar levels: A high-fiber meal slows down the digestion of food into the intestines, which may help to keep blood sugars from rising rapidly. Weight control: A high-fiber diet may help keep you fuller longer, which prevents overeating and hunger between meals."
      ],
      "metadata": {
        "id": "riq0WHzp5vkt"
      }
    },
    {
      "cell_type": "markdown",
      "source": [
        "### ----> We will separate out positive nutritions (recomended) and negative nutritions (not recomended) to compare these three clusters.\n",
        "* positive_ntr = ['protein','calcium','carbohydred','vit_a','vit_c','fiber']\n",
        "* negative_ntr = ['sugar','calories','total_fat','sodium','cholestrol']\n",
        ">Here we will calculate average of all nutritions from each clusters and comparing these three clusters together through graph to understand which cluster is better.\n",
        "* positive_ntr average should be higher\n",
        "* negative _ntr average should be lower"
      ],
      "metadata": {
        "id": "OfpUCgTo5vkt"
      }
    },
    {
      "cell_type": "code",
      "source": [
        "positive_ntr = ['protein','calcium','total_carb','vit_a','vit_c','fiber']\n",
        "negative_ntr = ['sugar','calories','total_fat','sodium','cholesterol']"
      ],
      "metadata": {
        "execution": {
          "iopub.status.busy": "2024-11-21T10:54:40.395305Z",
          "iopub.execute_input": "2024-11-21T10:54:40.395838Z",
          "iopub.status.idle": "2024-11-21T10:54:40.402486Z",
          "shell.execute_reply.started": "2024-11-21T10:54:40.395784Z",
          "shell.execute_reply": "2024-11-21T10:54:40.40126Z"
        },
        "trusted": true,
        "id": "J1qU1RoN5vkt"
      },
      "outputs": [],
      "execution_count": null
    },
    {
      "cell_type": "markdown",
      "source": [
        "### ----> zipping average values of nutritions and labels (nutritions) in dictionary format"
      ],
      "metadata": {
        "id": "Er5GYoF95vkt"
      }
    },
    {
      "cell_type": "code",
      "source": [
        "def zipper(lis1,lis2):\n",
        "    temp = {}\n",
        "    for v1,v2 in zip(lis1,lis2):\n",
        "        temp[v1] = v2\n",
        "    return temp\n",
        "\n",
        "label_0_dic = zipper(nutritions,label_0_nutri_avg)\n",
        "label_1_dic = zipper(nutritions,label_1_nutri_avg)\n",
        "label_2_dic = zipper(nutritions,label_2_nutri_avg)\n",
        "label_3_dic = zipper(nutritions,label_3_nutri_avg)\n",
        "\n",
        "print(\"label_0_zipped\",label_0_dic)\n",
        "print(\"\\n\\nlabel_1_zipped\",label_1_dic)\n",
        "print(\"\\n\\nlabel_2_zipped\",label_2_dic)\n",
        "print(\"\\n\\nlabel_3_zipped\",label_3_dic)"
      ],
      "metadata": {
        "execution": {
          "iopub.status.busy": "2024-11-21T10:54:40.404092Z",
          "iopub.execute_input": "2024-11-21T10:54:40.404563Z",
          "iopub.status.idle": "2024-11-21T10:54:40.417036Z",
          "shell.execute_reply.started": "2024-11-21T10:54:40.404499Z",
          "shell.execute_reply": "2024-11-21T10:54:40.415754Z"
        },
        "trusted": true,
        "id": "tQckSMtA5vku"
      },
      "outputs": [],
      "execution_count": null
    },
    {
      "cell_type": "markdown",
      "source": [
        "### ----> creating dictionary for each label (cluster) with positive nutrition and negative nutrition average values"
      ],
      "metadata": {
        "id": "mTBDOdOW5vku"
      }
    },
    {
      "cell_type": "code",
      "source": [
        "pn_avg_label_0 = {}\n",
        "pn_avg_label_1 = {}\n",
        "pn_avg_label_2 = {}\n",
        "pn_avg_label_3 = {}\n",
        "for i in range(3):\n",
        "    lis1 = []\n",
        "    lis2 = []\n",
        "    lis3 = []\n",
        "    lis4 = []\n",
        "    for pos_val in positive_ntr:\n",
        "        lis1.append(label_0_dic[pos_val])\n",
        "        lis2.append(label_1_dic[pos_val])\n",
        "        lis3.append(label_2_dic[pos_val])\n",
        "        lis4.append(label_3_dic[pos_val])\n",
        "    pn_avg_label_0['pos'] = sum(lis1)/len(lis1)\n",
        "    pn_avg_label_1['pos'] = sum(lis2)/len(lis2)\n",
        "    pn_avg_label_2['pos'] = sum(lis3)/len(lis3)\n",
        "    pn_avg_label_3['pos'] = sum(lis4)/len(lis4)\n",
        "\n",
        "\n",
        "for i in range(3):\n",
        "    lis1 = []\n",
        "    lis2 = []\n",
        "    lis3 = []\n",
        "    lis4 = []\n",
        "    for pos_val in negative_ntr:\n",
        "        lis1.append(label_0_dic[pos_val])\n",
        "        lis2.append(label_1_dic[pos_val])\n",
        "        lis3.append(label_2_dic[pos_val])\n",
        "        lis4.append(label_3_dic[pos_val])\n",
        "    pn_avg_label_0['neg'] = sum(lis1)/len(lis1)\n",
        "    pn_avg_label_1['neg'] = sum(lis2)/len(lis2)\n",
        "    pn_avg_label_2['neg'] = sum(lis3)/len(lis3)\n",
        "    pn_avg_label_3['neg'] = sum(lis4)/len(lis4)"
      ],
      "metadata": {
        "execution": {
          "iopub.status.busy": "2024-11-21T10:54:40.418297Z",
          "iopub.execute_input": "2024-11-21T10:54:40.418773Z",
          "iopub.status.idle": "2024-11-21T10:54:40.432966Z",
          "shell.execute_reply.started": "2024-11-21T10:54:40.418725Z",
          "shell.execute_reply": "2024-11-21T10:54:40.431484Z"
        },
        "trusted": true,
        "id": "WNTEarDd5vku"
      },
      "outputs": [],
      "execution_count": null
    },
    {
      "cell_type": "code",
      "source": [
        "pos = [pn_avg_label_0['pos'],pn_avg_label_1['pos'],pn_avg_label_2['pos'],pn_avg_label_3['pos']]\n",
        "neg = [pn_avg_label_0['neg'],pn_avg_label_1['neg'],pn_avg_label_2['neg'],pn_avg_label_3['neg']]"
      ],
      "metadata": {
        "execution": {
          "iopub.status.busy": "2024-11-21T10:54:40.434753Z",
          "iopub.execute_input": "2024-11-21T10:54:40.435126Z",
          "iopub.status.idle": "2024-11-21T10:54:40.447145Z",
          "shell.execute_reply.started": "2024-11-21T10:54:40.435093Z",
          "shell.execute_reply": "2024-11-21T10:54:40.44575Z"
        },
        "trusted": true,
        "id": "viKhGwKu5vku"
      },
      "outputs": [],
      "execution_count": null
    },
    {
      "cell_type": "code",
      "source": [
        "labels = [\"label_0\",\"label_1\",\"label_2\",\"label_3\"]"
      ],
      "metadata": {
        "execution": {
          "iopub.status.busy": "2024-11-21T10:54:40.448602Z",
          "iopub.execute_input": "2024-11-21T10:54:40.448982Z",
          "iopub.status.idle": "2024-11-21T10:54:40.462682Z",
          "shell.execute_reply.started": "2024-11-21T10:54:40.448946Z",
          "shell.execute_reply": "2024-11-21T10:54:40.461255Z"
        },
        "trusted": true,
        "id": "7bXCfmrP5vku"
      },
      "outputs": [],
      "execution_count": null
    },
    {
      "cell_type": "markdown",
      "source": [
        "### ----> positive nutrition average (should be large)\n",
        "picking high value cluster as winner"
      ],
      "metadata": {
        "id": "PpCNFHlw5vku"
      }
    },
    {
      "cell_type": "code",
      "source": [
        "data = pos\n",
        "\n",
        "palette_color = sn.color_palette('bright')\n",
        "explode = [0,0.1,0,0]\n",
        "plt.pie(data, explode = explode, labels=labels, colors=palette_color, autopct='%.0f%%')\n",
        "plt.title(\"positive neutrition distribution\")\n",
        "plt.show()"
      ],
      "metadata": {
        "execution": {
          "iopub.status.busy": "2024-11-21T10:54:40.464142Z",
          "iopub.execute_input": "2024-11-21T10:54:40.464526Z",
          "iopub.status.idle": "2024-11-21T10:54:40.646286Z",
          "shell.execute_reply.started": "2024-11-21T10:54:40.464492Z",
          "shell.execute_reply": "2024-11-21T10:54:40.644183Z"
        },
        "trusted": true,
        "id": "IUknjWDo5vku"
      },
      "outputs": [],
      "execution_count": null
    },
    {
      "cell_type": "code",
      "source": [
        "sn.barplot(x=labels,y=pos)\n",
        "plt.title(\"positive nutritions average value for 4 clusters\")\n",
        "plt.xlabel(\"cluster or labels\")\n",
        "plt.ylabel(\"average value of positive nutritions\")\n",
        "plt.show()"
      ],
      "metadata": {
        "execution": {
          "iopub.status.busy": "2024-11-21T10:54:40.64867Z",
          "iopub.execute_input": "2024-11-21T10:54:40.649314Z",
          "iopub.status.idle": "2024-11-21T10:54:41.081342Z",
          "shell.execute_reply.started": "2024-11-21T10:54:40.649252Z",
          "shell.execute_reply": "2024-11-21T10:54:41.08Z"
        },
        "trusted": true,
        "id": "xULU7Xe95vku"
      },
      "outputs": [],
      "execution_count": null
    },
    {
      "cell_type": "markdown",
      "source": [
        "### ----> negative nutrition average (should be low)\n",
        "picking low valued cluster as winner"
      ],
      "metadata": {
        "id": "agoSqUc55vku"
      }
    },
    {
      "cell_type": "code",
      "source": [
        "data = neg\n",
        "\n",
        "palette_color = sn.color_palette('bright')\n",
        "explode = [0.3,0,0,0]\n",
        "plt.pie(data, explode=explode, labels=labels, colors=palette_color, autopct='%.0f%%')\n",
        "plt.title(\"negative neutrition distribution\")\n",
        "plt.show()"
      ],
      "metadata": {
        "execution": {
          "iopub.status.busy": "2024-11-21T10:54:41.082987Z",
          "iopub.execute_input": "2024-11-21T10:54:41.083326Z",
          "iopub.status.idle": "2024-11-21T10:54:41.250704Z",
          "shell.execute_reply.started": "2024-11-21T10:54:41.083292Z",
          "shell.execute_reply": "2024-11-21T10:54:41.24902Z"
        },
        "trusted": true,
        "id": "zCFjY6yT5vku"
      },
      "outputs": [],
      "execution_count": null
    },
    {
      "cell_type": "code",
      "source": [
        "sn.barplot(x = labels,y=neg)\n",
        "plt.title(\"negative nutritions average value for 4 clusters\")\n",
        "plt.xlabel(\"cluster or labels\")\n",
        "plt.ylabel(\"average value of negative nutritions\")\n",
        "plt.show()"
      ],
      "metadata": {
        "execution": {
          "iopub.status.busy": "2024-11-21T10:54:41.252524Z",
          "iopub.execute_input": "2024-11-21T10:54:41.255874Z",
          "iopub.status.idle": "2024-11-21T10:54:41.457797Z",
          "shell.execute_reply.started": "2024-11-21T10:54:41.255788Z",
          "shell.execute_reply": "2024-11-21T10:54:41.456645Z"
        },
        "trusted": true,
        "id": "SEK6SKPN5vku"
      },
      "outputs": [],
      "execution_count": null
    },
    {
      "cell_type": "markdown",
      "source": [
        "## Now the exciting part (which food should I consume)\n",
        ">by looking above grphs label 1 having more positive average and less negative average so it get first rank, then label 2 second rank and label 3 will be at last"
      ],
      "metadata": {
        "id": "f8xYIxTc5vku"
      }
    },
    {
      "cell_type": "code",
      "source": [
        "# label_name = (positive,negative)\n",
        "label_0_pn = (26,10)\n",
        "label_1_pn = (29,27)\n",
        "label_2_pn = (27,18)\n",
        "label_3_pn = (19,45)\n",
        "labels_pos_neg = [label_0_pn,label_1_pn,label_2_pn,label_3_pn]"
      ],
      "metadata": {
        "execution": {
          "iopub.status.busy": "2024-11-21T10:54:41.459118Z",
          "iopub.execute_input": "2024-11-21T10:54:41.459574Z",
          "iopub.status.idle": "2024-11-21T10:54:41.466297Z",
          "shell.execute_reply.started": "2024-11-21T10:54:41.459524Z",
          "shell.execute_reply": "2024-11-21T10:54:41.465014Z"
        },
        "trusted": true,
        "id": "eTwNs95-5vkv"
      },
      "outputs": [],
      "execution_count": null
    },
    {
      "cell_type": "code",
      "source": [
        "healthy_level = [pos-neg for pos,neg in labels_pos_neg]\n",
        "healthy_level"
      ],
      "metadata": {
        "execution": {
          "iopub.status.busy": "2024-11-21T10:54:41.467587Z",
          "iopub.execute_input": "2024-11-21T10:54:41.468058Z",
          "iopub.status.idle": "2024-11-21T10:54:41.482163Z",
          "shell.execute_reply.started": "2024-11-21T10:54:41.468011Z",
          "shell.execute_reply": "2024-11-21T10:54:41.480839Z"
        },
        "trusted": true,
        "id": "VW8LZcbQ5vkv"
      },
      "outputs": [],
      "execution_count": null
    },
    {
      "cell_type": "markdown",
      "source": [
        "## Healthiest foods\n",
        "**prefer to eat this fast foods rather than others**🧐🍔"
      ],
      "metadata": {
        "id": "R78FjC2d5vkv"
      }
    },
    {
      "cell_type": "code",
      "source": [
        "label_0['item'].unique()"
      ],
      "metadata": {
        "execution": {
          "iopub.status.busy": "2024-11-21T10:54:41.483858Z",
          "iopub.execute_input": "2024-11-21T10:54:41.484254Z",
          "iopub.status.idle": "2024-11-21T10:54:41.497873Z",
          "shell.execute_reply.started": "2024-11-21T10:54:41.484219Z",
          "shell.execute_reply": "2024-11-21T10:54:41.496247Z"
        },
        "trusted": true,
        "id": "gTqf_8oT5vkv"
      },
      "outputs": [],
      "execution_count": null
    },
    {
      "cell_type": "markdown",
      "source": [
        "## Worst foods"
      ],
      "metadata": {
        "id": "j82x8Cpv5vkv"
      }
    },
    {
      "cell_type": "code",
      "source": [
        "label_3['item'].unique()"
      ],
      "metadata": {
        "execution": {
          "iopub.status.busy": "2024-11-21T10:54:41.49976Z",
          "iopub.execute_input": "2024-11-21T10:54:41.500269Z",
          "iopub.status.idle": "2024-11-21T10:54:41.51407Z",
          "shell.execute_reply.started": "2024-11-21T10:54:41.500218Z",
          "shell.execute_reply": "2024-11-21T10:54:41.512765Z"
        },
        "trusted": true,
        "id": "9zKOwf9v5vkv"
      },
      "outputs": [],
      "execution_count": null
    },
    {
      "cell_type": "markdown",
      "source": [
        "## Medium healthy food"
      ],
      "metadata": {
        "id": "ezE6lKcT5vkv"
      }
    },
    {
      "cell_type": "code",
      "source": [
        "label_1['item'].unique()"
      ],
      "metadata": {
        "execution": {
          "iopub.status.busy": "2024-11-21T10:54:41.516015Z",
          "iopub.execute_input": "2024-11-21T10:54:41.516525Z",
          "iopub.status.idle": "2024-11-21T10:54:41.52958Z",
          "shell.execute_reply.started": "2024-11-21T10:54:41.516479Z",
          "shell.execute_reply": "2024-11-21T10:54:41.528247Z"
        },
        "trusted": true,
        "id": "12G_MKIC5vkv"
      },
      "outputs": [],
      "execution_count": null
    },
    {
      "cell_type": "code",
      "source": [
        "label_2['item'].unique()"
      ],
      "metadata": {
        "execution": {
          "iopub.status.busy": "2024-11-21T10:54:41.531203Z",
          "iopub.execute_input": "2024-11-21T10:54:41.531565Z",
          "iopub.status.idle": "2024-11-21T10:54:41.545527Z",
          "shell.execute_reply.started": "2024-11-21T10:54:41.531531Z",
          "shell.execute_reply": "2024-11-21T10:54:41.544199Z"
        },
        "trusted": true,
        "id": "ytkOBf3A5vkv"
      },
      "outputs": [],
      "execution_count": null
    },
    {
      "cell_type": "markdown",
      "source": [
        "## Thanks!"
      ],
      "metadata": {
        "id": "Ev7z3oWw5vkv"
      }
    },
    {
      "cell_type": "code",
      "source": [],
      "metadata": {
        "trusted": true,
        "id": "qUa3qJZ-5vkw"
      },
      "outputs": [],
      "execution_count": null
    }
  ]
}